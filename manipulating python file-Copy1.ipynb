{
 "cells": [
  {
   "cell_type": "code",
   "execution_count": 22,
   "id": "5d9008a2",
   "metadata": {},
   "outputs": [],
   "source": [
    "import os\n",
    "import shutil"
   ]
  },
  {
   "cell_type": "markdown",
   "id": "d37700f1",
   "metadata": {},
   "source": [
    "getting the current working directory"
   ]
  },
  {
   "cell_type": "code",
   "execution_count": 8,
   "id": "b8dfc25b",
   "metadata": {},
   "outputs": [
    {
     "data": {
      "text/plain": [
       "'C:\\\\Users\\\\PRAISE\\\\Dsci_Intermidiate\\\\Untitled Folder'"
      ]
     },
     "execution_count": 8,
     "metadata": {},
     "output_type": "execute_result"
    }
   ],
   "source": [
    "os.getcwd()"
   ]
  },
  {
   "cell_type": "markdown",
   "id": "89b8c1a8",
   "metadata": {},
   "source": [
    "listing current directory content"
   ]
  },
  {
   "cell_type": "code",
   "execution_count": 11,
   "id": "bc092d4d",
   "metadata": {},
   "outputs": [
    {
     "data": {
      "text/plain": [
       "['.ipynb_checkpoints', 'lesson4.ipynb', 'manipulating python file.ipynb']"
      ]
     },
     "execution_count": 11,
     "metadata": {},
     "output_type": "execute_result"
    }
   ],
   "source": [
    "os.listdir('C:\\\\Users\\\\PRAISE\\\\Dsci_Intermidiate\\\\Untitled Folder')"
   ]
  },
  {
   "cell_type": "markdown",
   "id": "d1530cce",
   "metadata": {},
   "source": [
    "creating new folder project_1"
   ]
  },
  {
   "cell_type": "code",
   "execution_count": 12,
   "id": "da134b82",
   "metadata": {},
   "outputs": [],
   "source": [
    "os.mkdir('C:\\\\Users\\\\PRAISE\\\\Dsci_Intermidiate\\\\Untitled Folder\\\\project_1')"
   ]
  },
  {
   "cell_type": "code",
   "execution_count": 13,
   "id": "d491d837",
   "metadata": {},
   "outputs": [],
   "source": [
    "os.chdir('C:\\\\Users\\\\PRAISE\\\\Dsci_Intermidiate\\\\Untitled Folder\\\\project_1')"
   ]
  },
  {
   "cell_type": "code",
   "execution_count": 14,
   "id": "5f323978",
   "metadata": {},
   "outputs": [
    {
     "data": {
      "text/plain": [
       "'C:\\\\Users\\\\PRAISE\\\\Dsci_Intermidiate\\\\Untitled Folder\\\\project_1'"
      ]
     },
     "execution_count": 14,
     "metadata": {},
     "output_type": "execute_result"
    }
   ],
   "source": [
    "os.getcwd()"
   ]
  },
  {
   "cell_type": "markdown",
   "id": "04e545a7",
   "metadata": {},
   "source": [
    "Adding CSV file to project_1"
   ]
  },
  {
   "cell_type": "code",
   "execution_count": 18,
   "id": "59319a1a",
   "metadata": {},
   "outputs": [],
   "source": [
    "os.mkdir(os.path.join('C:\\\\Users\\\\PRAISE\\\\Dsci_Intermidiate\\\\Untitled Folder\\\\project_1',\"tmdb_5000_credits.csv\"))"
   ]
  },
  {
   "cell_type": "code",
   "execution_count": 24,
   "id": "2dbff8b9",
   "metadata": {},
   "outputs": [
    {
     "data": {
      "text/plain": [
       "'C:\\\\Users\\\\PRAISE\\\\Dsci_Intermidiate\\\\Untitled Folder\\\\project_1'"
      ]
     },
     "execution_count": 24,
     "metadata": {},
     "output_type": "execute_result"
    }
   ],
   "source": [
    "os.getcwd()"
   ]
  },
  {
   "cell_type": "code",
   "execution_count": 25,
   "id": "f6045e5d",
   "metadata": {},
   "outputs": [
    {
     "data": {
      "text/plain": [
       "['tmdb_5000_credits.csv']"
      ]
     },
     "execution_count": 25,
     "metadata": {},
     "output_type": "execute_result"
    }
   ],
   "source": [
    "os.listdir('C:\\\\Users\\\\PRAISE\\\\Dsci_Intermidiate\\\\Untitled Folder\\\\project_1')"
   ]
  },
  {
   "cell_type": "code",
   "execution_count": null,
   "id": "3a7d2d9e",
   "metadata": {},
   "outputs": [],
   "source": []
  }
 ],
 "metadata": {
  "kernelspec": {
   "display_name": "Python 3 (ipykernel)",
   "language": "python",
   "name": "python3"
  },
  "language_info": {
   "codemirror_mode": {
    "name": "ipython",
    "version": 3
   },
   "file_extension": ".py",
   "mimetype": "text/x-python",
   "name": "python",
   "nbconvert_exporter": "python",
   "pygments_lexer": "ipython3",
   "version": "3.9.12"
  }
 },
 "nbformat": 4,
 "nbformat_minor": 5
}
